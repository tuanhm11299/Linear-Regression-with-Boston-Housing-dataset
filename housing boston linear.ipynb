{
 "cells": [
  {
   "cell_type": "code",
   "execution_count": null,
   "metadata": {},
   "outputs": [],
   "source": [
    "import numpy as np\n",
    "import re\n",
    "f = open(\"data.txt\")\n",
    "data = f.read()\n",
    "data"
   ]
  },
  {
   "cell_type": "code",
   "execution_count": null,
   "metadata": {},
   "outputs": [],
   "source": [
    "data = re.split('\\s+',data)\n",
    "data"
   ]
  },
  {
   "cell_type": "code",
   "execution_count": null,
   "metadata": {},
   "outputs": [],
   "source": [
    "data = data[1:]\n",
    "data"
   ]
  },
  {
   "cell_type": "code",
   "execution_count": null,
   "metadata": {},
   "outputs": [],
   "source": [
    "data_np = np.array(data)\n",
    "data_np = data_np.astype(float)\n",
    "data_np"
   ]
  },
  {
   "cell_type": "code",
   "execution_count": null,
   "metadata": {},
   "outputs": [],
   "source": [
    "data_np = data_np.reshape(506,14)\n",
    "np.random.shuffle(data_np)"
   ]
  },
  {
   "cell_type": "code",
   "execution_count": null,
   "metadata": {},
   "outputs": [],
   "source": [
    "data_np"
   ]
  },
  {
   "cell_type": "code",
   "execution_count": null,
   "metadata": {
    "scrolled": true
   },
   "outputs": [],
   "source": [
    "data_np = data_np / np.max(data_np, axis = 0)\n",
    "data_np.shape"
   ]
  },
  {
   "cell_type": "code",
   "execution_count": null,
   "metadata": {},
   "outputs": [],
   "source": [
    "nsamples = data_np.shape[0]\n",
    "nsamples"
   ]
  },
  {
   "cell_type": "code",
   "execution_count": null,
   "metadata": {},
   "outputs": [],
   "source": [
    "training,testing,validating = np.split(data_np,[int(nsamples*0.8),int(nsamples*0.9)]) "
   ]
  },
  {
   "cell_type": "code",
   "execution_count": null,
   "metadata": {},
   "outputs": [],
   "source": [
    "print(training.shape,testing.shape,validating.shape)"
   ]
  },
  {
   "cell_type": "code",
   "execution_count": null,
   "metadata": {},
   "outputs": [],
   "source": [
    "#chia thuộc tính và nhãn dựa trên số tập huấn luyện đã chia\n",
    "training_att,training_label = np.split(training,[13],axis = 1) \n",
    "testing_att,testing_label = np.split(testing,[13],axis = 1)\n",
    "validating_att,validating_label = np.split(validating,[13],axis = 1)"
   ]
  },
  {
   "cell_type": "code",
   "execution_count": null,
   "metadata": {},
   "outputs": [],
   "source": [
    "training_label.shape"
   ]
  },
  {
   "cell_type": "code",
   "execution_count": null,
   "metadata": {},
   "outputs": [],
   "source": [
    "x,y = training_att,training_label\n",
    "#tính normal equation dạng basic: tính giá trị w trên tập dữ liệu training\n",
    "w = np.linalg.inv(x.T.dot(x)).dot(x.T).dot(y)\n",
    "w"
   ]
  },
  {
   "cell_type": "code",
   "execution_count": null,
   "metadata": {},
   "outputs": [],
   "source": [
    "#tính độ lỗi \n",
    "y_predict = validating_att.dot(w)\n",
    "error = np.abs(validating_label - y_predict).sum() / validating.shape[0]\n",
    "error"
   ]
  },
  {
   "cell_type": "code",
   "execution_count": null,
   "metadata": {},
   "outputs": [],
   "source": [
    "y_pred_test = testing_att.dot(w)\n",
    "error1 =np.abs(testing_label - y_pred_test).sum() / testing.shape[0]\n",
    "error1"
   ]
  },
  {
   "cell_type": "code",
   "execution_count": null,
   "metadata": {},
   "outputs": [],
   "source": [
    "import matplotlib.pyplot as plt"
   ]
  },
  {
   "cell_type": "code",
   "execution_count": null,
   "metadata": {},
   "outputs": [],
   "source": [
    "def train_by_gd(nepochs, lr, w = None, isgivenW = False):\n",
    "    x,y = training_att,training_label\n",
    "    if (not isgivenW):\n",
    "        w = np.random.randn(13,1)\n",
    "    lstloss = []\n",
    "    # tính độ lỗi sau mỗi lần tính xong độ lỗi\n",
    "    for epoch in range(nepochs):\n",
    "        np.random.shuffle(x)\n",
    "        dw = (x.T.dot(x).dot(w)-(x.T.dot(y))) / training.shape[0]\n",
    "        w = w - lr*dw\n",
    "        y_predict = x.dot(w)\n",
    "        error = np.abs(y - y_predict).sum() / training.shape[0]\n",
    "        lstloss.append(error)\n",
    "        print(\"{}------{}\".format(epoch,error))\n",
    "    return w, lstloss\n",
    "w, lstloss = train_by_gd(400,0.005, w, False)\n",
    "plt.plot(lstloss)"
   ]
  },
  {
   "cell_type": "code",
   "execution_count": null,
   "metadata": {
    "scrolled": true
   },
   "outputs": [],
   "source": [
    "y_predict = validating_att.dot(w)\n",
    "error = np.abs(validating_label - y_predict).sum() / validating.shape[0]\n",
    "error"
   ]
  },
  {
   "cell_type": "code",
   "execution_count": null,
   "metadata": {},
   "outputs": [],
   "source": [
    "y_predict = testing_att.dot(w)\n",
    "error = np.abs(testing_label - y_predict).sum()/ testing.shape[0]\n",
    "error"
   ]
  },
  {
   "cell_type": "code",
   "execution_count": null,
   "metadata": {
    "scrolled": true
   },
   "outputs": [],
   "source": [
    "def stochatic_gd(nepochs,lr,w=None,isgivenW=False):\n",
    "    x,y = training_att,training_label\n",
    "    if (not isgivenW):\n",
    "        w = np.random.randn(13,1)\n",
    "    lstloss = []\n",
    "    for epoch in range(nepochs):\n",
    "        np.random.shuffle(x)\n",
    "        for i in range(len(x)):\n",
    "            xi = x[i]\n",
    "            yi = y[i]\n",
    "            dw = ((xi**2)*w)-(xi*yi) / training.shape[0]\n",
    "            w = w - lr*dw\n",
    "            y_predict1 = x.dot(w)\n",
    "            error = np.abs(y - y_predict1).sum() / training.shape[0]\n",
    "            lstloss.append(error)\n",
    "            print(\"{}------{}\".format(epoch,error))\n",
    "    return w, lstloss\n",
    "w, lstloss = stochatic_gd(100,0.001, w, False)\n",
    "plt.plot(lstloss)"
   ]
  },
  {
   "cell_type": "code",
   "execution_count": null,
   "metadata": {},
   "outputs": [],
   "source": [
    "y_predict1 = validating_att.dot(w)\n",
    "error = np.abs(validating_label - y_predict1).sum() / validating.shape[0]\n",
    "error"
   ]
  },
  {
   "cell_type": "code",
   "execution_count": null,
   "metadata": {},
   "outputs": [],
   "source": [
    "y_predict1 = testing_att.dot(w)\n",
    "error = np.abs(testing_label - y_predict1).sum() / testing.shape[0]\n",
    "error"
   ]
  },
  {
   "cell_type": "code",
   "execution_count": null,
   "metadata": {
    "scrolled": true
   },
   "outputs": [],
   "source": [
    "def minibatch_gd(nepochs,lr,n,w=None,isgivenW=False):\n",
    "    x,y = training_att,training_label\n",
    "    if (not isgivenW):\n",
    "        w = np.random.randn(13,1)\n",
    "    lstloss = []\n",
    "    for epoch in range(nepochs):\n",
    "        np.random.shuffle(x)\n",
    "        for i in range(epoch+n-1):\n",
    "            xi = x[i]+1\n",
    "            yi = y[i]+1\n",
    "            dw = ((xi**2)*w)-(xi*yi) / training.shape[0]\n",
    "            w = w - lr*dw\n",
    "            y_predict2 = x.dot(w)\n",
    "            error = np.abs(y - y_predict2).sum() / training.shape[0]\n",
    "            lstloss.append(error)\n",
    "            print(\"{}------{}\".format(epoch,error))\n",
    "    return w, lstloss\n",
    "w, lstloss = minibatch_gd(200,0.005,60, w, False)\n",
    "plt.plot(lstloss)"
   ]
  },
  {
   "cell_type": "code",
   "execution_count": null,
   "metadata": {},
   "outputs": [],
   "source": [
    "y_predict2 = validating_att.dot(w)\n",
    "error = np.abs(validating_label - y_predict2).sum() / validating.shape[0]\n",
    "error"
   ]
  },
  {
   "cell_type": "code",
   "execution_count": null,
   "metadata": {},
   "outputs": [],
   "source": [
    "y_predict2 = testing_att.dot(w)\n",
    "error = np.abs(testing_label - y_predict2).sum() / testing.shape[0]\n",
    "error"
   ]
  },
  {
   "cell_type": "code",
   "execution_count": null,
   "metadata": {},
   "outputs": [],
   "source": []
  }
 ],
 "metadata": {
  "kernelspec": {
   "display_name": "Python 3",
   "language": "python",
   "name": "python3"
  },
  "language_info": {
   "codemirror_mode": {
    "name": "ipython",
    "version": 3
   },
   "file_extension": ".py",
   "mimetype": "text/x-python",
   "name": "python",
   "nbconvert_exporter": "python",
   "pygments_lexer": "ipython3",
   "version": "3.7.1"
  }
 },
 "nbformat": 4,
 "nbformat_minor": 2
}
